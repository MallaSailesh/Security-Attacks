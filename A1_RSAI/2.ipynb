{
  "nbformat": 4,
  "nbformat_minor": 0,
  "metadata": {
    "colab": {
      "provenance": []
    },
    "kernelspec": {
      "name": "python3",
      "display_name": "Python 3"
    },
    "language_info": {
      "name": "python"
    }
  },
  "cells": [
    {
      "cell_type": "code",
      "execution_count": null,
      "metadata": {
        "id": "IGDM8EnoFCCT"
      },
      "outputs": [],
      "source": [
        "import torch\n",
        "from torch import nn\n",
        "import torch.nn.functional as F\n",
        "from torchvision import datasets, transforms\n",
        "import matplotlib.pyplot as plt\n",
        "import numpy as np\n",
        "import torch.backends.cudnn as cudnn\n",
        "cudnn.benchmark = True  # fire on all cylinders"
      ]
    },
    {
      "cell_type": "code",
      "source": [
        "train_data = datasets.MNIST('./data', train=True, download=True, transform=transforms.ToTensor())\n",
        "test_data = datasets.MNIST('./data', train=False, download=True, transform=transforms.ToTensor())"
      ],
      "metadata": {
        "id": "puoeIIdBFoTC",
        "colab": {
          "base_uri": "https://localhost:8080/"
        },
        "outputId": "adb3e4b8-414b-4501-eba5-953cc1937609"
      },
      "execution_count": null,
      "outputs": [
        {
          "output_type": "stream",
          "name": "stdout",
          "text": [
            "Downloading http://yann.lecun.com/exdb/mnist/train-images-idx3-ubyte.gz\n",
            "Downloading http://yann.lecun.com/exdb/mnist/train-images-idx3-ubyte.gz to ./data/MNIST/raw/train-images-idx3-ubyte.gz\n"
          ]
        },
        {
          "output_type": "stream",
          "name": "stderr",
          "text": [
            "100%|██████████| 9912422/9912422 [00:00<00:00, 337352920.25it/s]"
          ]
        },
        {
          "output_type": "stream",
          "name": "stdout",
          "text": [
            "Extracting ./data/MNIST/raw/train-images-idx3-ubyte.gz to ./data/MNIST/raw\n"
          ]
        },
        {
          "output_type": "stream",
          "name": "stderr",
          "text": [
            "\n"
          ]
        },
        {
          "output_type": "stream",
          "name": "stdout",
          "text": [
            "\n",
            "Downloading http://yann.lecun.com/exdb/mnist/train-labels-idx1-ubyte.gz\n",
            "Downloading http://yann.lecun.com/exdb/mnist/train-labels-idx1-ubyte.gz to ./data/MNIST/raw/train-labels-idx1-ubyte.gz\n"
          ]
        },
        {
          "output_type": "stream",
          "name": "stderr",
          "text": [
            "100%|██████████| 28881/28881 [00:00<00:00, 20098837.54it/s]\n"
          ]
        },
        {
          "output_type": "stream",
          "name": "stdout",
          "text": [
            "Extracting ./data/MNIST/raw/train-labels-idx1-ubyte.gz to ./data/MNIST/raw\n",
            "\n",
            "Downloading http://yann.lecun.com/exdb/mnist/t10k-images-idx3-ubyte.gz\n",
            "Downloading http://yann.lecun.com/exdb/mnist/t10k-images-idx3-ubyte.gz to ./data/MNIST/raw/t10k-images-idx3-ubyte.gz\n"
          ]
        },
        {
          "output_type": "stream",
          "name": "stderr",
          "text": [
            "100%|██████████| 1648877/1648877 [00:00<00:00, 184364773.85it/s]"
          ]
        },
        {
          "output_type": "stream",
          "name": "stdout",
          "text": [
            "Extracting ./data/MNIST/raw/t10k-images-idx3-ubyte.gz to ./data/MNIST/raw\n"
          ]
        },
        {
          "output_type": "stream",
          "name": "stderr",
          "text": [
            "\n"
          ]
        },
        {
          "output_type": "stream",
          "name": "stdout",
          "text": [
            "\n",
            "Downloading http://yann.lecun.com/exdb/mnist/t10k-labels-idx1-ubyte.gz\n",
            "Downloading http://yann.lecun.com/exdb/mnist/t10k-labels-idx1-ubyte.gz to ./data/MNIST/raw/t10k-labels-idx1-ubyte.gz\n"
          ]
        },
        {
          "output_type": "stream",
          "name": "stderr",
          "text": [
            "100%|██████████| 4542/4542 [00:00<00:00, 10432929.23it/s]\n"
          ]
        },
        {
          "output_type": "stream",
          "name": "stdout",
          "text": [
            "Extracting ./data/MNIST/raw/t10k-labels-idx1-ubyte.gz to ./data/MNIST/raw\n",
            "\n"
          ]
        }
      ]
    },
    {
      "cell_type": "code",
      "source": [
        "print(len(train_data), len(test_data))"
      ],
      "metadata": {
        "colab": {
          "base_uri": "https://localhost:8080/"
        },
        "id": "X5qSt2XsGA0-",
        "outputId": "dbd17242-f1bb-4d69-fcd4-e67c0614c682"
      },
      "execution_count": null,
      "outputs": [
        {
          "output_type": "stream",
          "name": "stdout",
          "text": [
            "60000 10000\n"
          ]
        }
      ]
    },
    {
      "cell_type": "code",
      "source": [
        "for i in range(5):\n",
        "    plt.figure(figsize=(2, 2))\n",
        "    plt.imshow(train_data[i][0].permute(1,2,0).repeat(1,1,3).numpy()) # Mnist image size - 1 * 28 * 28\n",
        "    plt.title(train_data[i][1])\n",
        "    plt.show()"
      ],
      "metadata": {
        "colab": {
          "base_uri": "https://localhost:8080/",
          "height": 1000
        },
        "id": "t8Yg_2GyF9OG",
        "outputId": "8268dedc-1cde-46ce-bd77-3bd33efcebf2"
      },
      "execution_count": null,
      "outputs": [
        {
          "output_type": "display_data",
          "data": {
            "text/plain": [
              "<Figure size 200x200 with 1 Axes>"
            ],
            "image/png": "[encoded data removed]"
          },
          "metadata": {}
        },
        {
          "output_type": "display_data",
          "data": {
            "text/plain": [
              "<Figure size 200x200 with 1 Axes>"
            ],
            "image/png": "[encoded data removed]"
          },
          "metadata": {}
        },
        {
          "output_type": "display_data",
          "data": {
            "text/plain": [
              "<Figure size 200x200 with 1 Axes>"
            ],
            "image/png": "[encoded data removed]"
          },
          "metadata": {}
        },
        {
          "output_type": "display_data",
          "data": {
            "text/plain": [
              "<Figure size 200x200 with 1 Axes>"
            ],
            "image/png": "[encoded data removed]"
          },
          "metadata": {}
        },
        {
          "output_type": "display_data",
          "data": {
            "text/plain": [
              "<Figure size 200x200 with 1 Axes>"
            ],
            "image/png": "[encoded data removed]"
          },
          "metadata": {}
        }
      ]
    },
    {
      "cell_type": "markdown",
      "source": [
        "**2. White Box Evasion Attack - Task 1**"
      ],
      "metadata": {
        "id": "P0ubXed-Pop5"
      }
    },
    {
      "cell_type": "code",
      "source": [
        "class MNISTModel(nn.Module):\n",
        "    def __init__(self, num_classes=10):\n",
        "        super().__init__()\n",
        "        self.main = nn.Sequential(\n",
        "            nn.Linear(28*28, 256),\n",
        "            nn.ReLU(),\n",
        "            nn.Linear(256, 128),\n",
        "            nn.ReLU(),\n",
        "            nn.Linear(128, num_classes)\n",
        "        )\n",
        "\n",
        "    def forward(self, x):\n",
        "        \"\"\"\n",
        "        :param x: a batch of Fashion-MNIST images with shape (N, height, width)\n",
        "        \"\"\"\n",
        "        return self.main(x.view(x.shape[0], -1))"
      ],
      "metadata": {
        "id": "zO6f34o-GNAD"
      },
      "execution_count": null,
      "outputs": []
    },
    {
      "cell_type": "code",
      "source": [
        "model = MNISTModel()\n",
        "optimizer = torch.optim.Adam(model.parameters(), lr=0.001)\n",
        "\n",
        "# Set the model to train mode\n",
        "model.train()\n",
        "\n",
        "for epoch in range(5):\n",
        "    train_loader = torch.utils.data.DataLoader(train_data, batch_size=64, shuffle=True)\n",
        "    for images, labels in train_loader:\n",
        "        optimizer.zero_grad()\n",
        "        output = model(images)\n",
        "        loss = F.cross_entropy(output, labels)\n",
        "        loss.backward()\n",
        "        optimizer.step()"
      ],
      "metadata": {
        "id": "c9FUECJiGyYE"
      },
      "execution_count": null,
      "outputs": []
    },
    {
      "cell_type": "code",
      "source": [
        "model.eval()\n",
        "\n",
        "correct = 0\n",
        "total = 0\n",
        "\n",
        "with torch.no_grad():\n",
        "    train_loader = torch.utils.data.DataLoader(train_data, batch_size=64, shuffle=False)\n",
        "    for images, labels in train_loader:\n",
        "        outputs = model(images)\n",
        "        _, predicted = torch.max(outputs.data, 1)\n",
        "        total += labels.size(0)\n",
        "        correct += (predicted == labels).sum().item()\n",
        "\n",
        "accuracy = 100 * correct / total\n",
        "print('Accuracy on training set:  {} %'.format(accuracy))\n",
        "\n",
        "correct = 0\n",
        "total = 0\n",
        "\n",
        "with torch.no_grad():\n",
        "    test_loader = torch.utils.data.DataLoader(test_data, batch_size=64, shuffle=False)\n",
        "    for images, labels in test_loader:\n",
        "        outputs = model(images)\n",
        "        _, predicted = torch.max(outputs.data, 1)\n",
        "        total += labels.size(0)\n",
        "        correct += (predicted == labels).sum().item()\n",
        "\n",
        "accuracy = 100 * correct / total\n",
        "print('Accuracy on test set:  {} %'.format(accuracy))"
      ],
      "metadata": {
        "colab": {
          "base_uri": "https://localhost:8080/"
        },
        "id": "RHa9RCSOIq75",
        "outputId": "3bff0b7c-4f18-445f-8695-a4493265947d"
      },
      "execution_count": null,
      "outputs": [
        {
          "output_type": "stream",
          "name": "stdout",
          "text": [
            "Accuracy on training set:  99.05666666666667 %\n",
            "Accuracy on test set:  97.74 %\n"
          ]
        }
      ]
    },
    {
      "cell_type": "markdown",
      "source": [
        "**2. White Box Evasion Attack - Task 2**"
      ],
      "metadata": {
        "id": "KizviPE9P0z8"
      }
    },
    {
      "cell_type": "code",
      "source": [
        "def fgsm_attack(img, eps, original_label, target_label=None):\n",
        "    img.requires_grad = True\n",
        "    output = model(img)\n",
        "    if target_label is not None:\n",
        "      target_label = torch.tensor(target_label).unsqueeze(0)\n",
        "      loss = -nn.CrossEntropyLoss()(output, target_label)\n",
        "    else:\n",
        "      original_label = torch.tensor(original_label).unsqueeze(0)\n",
        "      loss = nn.CrossEntropyLoss()(output, original_label)\n",
        "    loss.backward()\n",
        "    img_adv = img + eps * img.grad.sign()\n",
        "    return img_adv"
      ],
      "metadata": {
        "id": "HzPlltIwJ5ny"
      },
      "execution_count": null,
      "outputs": []
    },
    {
      "cell_type": "code",
      "source": [
        "def show_images(original_image, adv_image, noise, type):\n",
        "    fig, axes = plt.subplots(1, 3, figsize=(8, 4))\n",
        "    titles = ['Original', f'{type} Adversarial', f'{type} Noise']\n",
        "\n",
        "    for ax, img, title in zip(axes, [original_image, adv_image, noise], titles):\n",
        "        img = img.squeeze().detach().numpy()  # Convert from PyTorch format\n",
        "        ax.imshow(img, cmap='gray')\n",
        "        ax.set_title(title)"
      ],
      "metadata": {
        "id": "Qxm8MVmFZAdQ"
      },
      "execution_count": null,
      "outputs": []
    },
    {
      "cell_type": "code",
      "source": [
        "import random\n",
        "\n",
        "idx = random.randint(0, len(test_data))\n",
        "img, original_label = test_data[idx]\n",
        "img = img.unsqueeze(0)"
      ],
      "metadata": {
        "id": "SNONKaYScLT0"
      },
      "execution_count": null,
      "outputs": []
    },
    {
      "cell_type": "code",
      "source": [
        "untargeted_adv_img = fgsm_attack(img.clone(), 0.2, original_label)\n",
        "target_label = (original_label + 1) % 10\n",
        "targeted_adv_img = fgsm_attack(img.clone(), 0.2, original_label, target_label)"
      ],
      "metadata": {
        "id": "laiVvNP5cQ7O"
      },
      "execution_count": null,
      "outputs": []
    },
    {
      "cell_type": "code",
      "source": [
        "noise = untargeted_adv_img - img\n",
        "show_images(img, untargeted_adv_img, noise, type=\"Untargeted\")"
      ],
      "metadata": {
        "colab": {
          "base_uri": "https://localhost:8080/",
          "height": 265
        },
        "id": "J0XP-YN-bnj8",
        "outputId": "ec303aa5-dcc0-46c2-ea31-3fe27b181917"
      },
      "execution_count": null,
      "outputs": [
        {
          "output_type": "display_data",
          "data": {
            "text/plain": [
              "<Figure size 800x400 with 3 Axes>"
            ],
            "image/png": "[encoded data removed]"
          },
          "metadata": {}
        }
      ]
    },
    {
      "cell_type": "code",
      "source": [
        "noise = targeted_adv_img - img\n",
        "show_images(img, targeted_adv_img, noise, type=\"Targeted\")"
      ],
      "metadata": {
        "colab": {
          "base_uri": "https://localhost:8080/",
          "height": 265
        },
        "id": "5U1cVP1yQeOJ",
        "outputId": "094e3bd6-62cc-47f4-f1c6-cc96741beed4"
      },
      "execution_count": null,
      "outputs": [
        {
          "output_type": "display_data",
          "data": {
            "text/plain": [
              "<Figure size 800x400 with 3 Axes>"
            ],
            "image/png": "[encoded data removed]"
          },
          "metadata": {}
        }
      ]
    },
    {
      "cell_type": "code",
      "source": [
        "output = model(img)\n",
        "_, predicted = torch.max(output.data, 1)\n",
        "print(predicted)\n",
        "x = torch.tensor(original_label).unsqueeze(0)\n",
        "print(nn.CrossEntropyLoss()(output, x))\n",
        "\n",
        "output = model(untargeted_adv_img)\n",
        "_, predicted = torch.max(output.data, 1)\n",
        "print(predicted)\n",
        "x = torch.tensor(original_label).unsqueeze(0)\n",
        "print(nn.CrossEntropyLoss()(output, x))\n",
        "\n",
        "output = model(targeted_adv_img)\n",
        "_, predicted = torch.max(output.data, 1)\n",
        "print(predicted)\n",
        "x = torch.tensor(target_label).unsqueeze(0)\n",
        "print(nn.CrossEntropyLoss()(output, x))"
      ],
      "metadata": {
        "colab": {
          "base_uri": "https://localhost:8080/"
        },
        "id": "ItYkuzaZG1qO",
        "outputId": "163c8d0a-2bb8-447f-818b-560ee9495fb2"
      },
      "execution_count": null,
      "outputs": [
        {
          "output_type": "stream",
          "name": "stdout",
          "text": [
            "tensor([4])\n",
            "tensor(2.6226e-06, grad_fn=<NllLossBackward0>)\n",
            "tensor([3])\n",
            "tensor(54.3224, grad_fn=<NllLossBackward0>)\n",
            "tensor([5])\n",
            "tensor(0.0002, grad_fn=<NllLossBackward0>)\n"
          ]
        }
      ]
    },
    {
      "cell_type": "code",
      "source": [
        "def pgd_attack(img, eps, num_steps, original_label, target_label=None):\n",
        "\n",
        "    adv_img = img.clone().detach().requires_grad_(True)\n",
        "    original_label = torch.tensor(original_label).unsqueeze(0)\n",
        "    if target_label is not None:\n",
        "      target_label = torch.tensor(target_label).unsqueeze(0)\n",
        "\n",
        "    for _ in range(num_steps):\n",
        "        output = model(adv_img)\n",
        "        if target_label is not None:\n",
        "          loss = -nn.CrossEntropyLoss()(output, target_label)\n",
        "        else:\n",
        "          loss = nn.CrossEntropyLoss()(output, original_label)\n",
        "        loss.backward()\n",
        "\n",
        "        adv_img = adv_img.detach() + eps * adv_img.grad.sign()\n",
        "        adv_img = torch.clamp(adv_img, 0, 1)  # Projection step\n",
        "        adv_img.requires_grad = True\n",
        "    return adv_img\n",
        "\n",
        "untargeted_adv_img = pgd_attack(img.clone(), 0.2, 5, original_label)\n",
        "target_label = (original_label + 1) % 10\n",
        "targeted_adv_img = pgd_attack(img.clone(), 0.2, 5, original_label, target_label)"
      ],
      "metadata": {
        "id": "gjnFeH8QcjaG"
      },
      "execution_count": null,
      "outputs": []
    },
    {
      "cell_type": "code",
      "source": [
        "noise = untargeted_adv_img - img\n",
        "show_images(img, untargeted_adv_img, noise, type=\"Untargeted\")"
      ],
      "metadata": {
        "colab": {
          "base_uri": "https://localhost:8080/",
          "height": 265
        },
        "id": "A3jwxLPVGHWv",
        "outputId": "73f9aefa-c6fe-469b-8dc7-9554ddd65e61"
      },
      "execution_count": null,
      "outputs": [
        {
          "output_type": "display_data",
          "data": {
            "text/plain": [
              "<Figure size 800x400 with 3 Axes>"
            ],
            "image/png": "[encoded data removed]"
          },
          "metadata": {}
        }
      ]
    },
    {
      "cell_type": "code",
      "source": [
        "noise = targeted_adv_img - img\n",
        "show_images(img, targeted_adv_img, noise, type=\"Targeted\")"
      ],
      "metadata": {
        "colab": {
          "base_uri": "https://localhost:8080/",
          "height": 265
        },
        "id": "4Ur4QLEATRgK",
        "outputId": "a6d8bccc-1db6-4e41-d4aa-04123f1ced7e"
      },
      "execution_count": null,
      "outputs": [
        {
          "output_type": "display_data",
          "data": {
            "text/plain": [
              "<Figure size 800x400 with 3 Axes>"
            ],
            "image/png": "[encoded data removed]"
          },
          "metadata": {}
        }
      ]
    },
    {
      "cell_type": "code",
      "source": [
        "output = model(img)\n",
        "_, predicted = torch.max(output.data, 1)\n",
        "print(predicted)\n",
        "x = torch.tensor(original_label).unsqueeze(0)\n",
        "print(nn.CrossEntropyLoss()(output, x))\n",
        "\n",
        "output = model(untargeted_adv_img)\n",
        "_, predicted = torch.max(output.data, 1)\n",
        "print(predicted)\n",
        "x = torch.tensor(original_label).unsqueeze(0)\n",
        "print(nn.CrossEntropyLoss()(output, x))\n",
        "\n",
        "output = model(targeted_adv_img)\n",
        "_, predicted = torch.max(output.data, 1)\n",
        "print(predicted)\n",
        "x = torch.tensor(target_label).unsqueeze(0)\n",
        "print(nn.CrossEntropyLoss()(output, x))"
      ],
      "metadata": {
        "colab": {
          "base_uri": "https://localhost:8080/"
        },
        "id": "ReWJKX9uSvgH",
        "outputId": "3a367932-fe70-47ac-bb26-5f1b49ee4d44"
      },
      "execution_count": null,
      "outputs": [
        {
          "output_type": "stream",
          "name": "stdout",
          "text": [
            "tensor([4])\n",
            "tensor(2.6226e-06, grad_fn=<NllLossBackward0>)\n",
            "tensor([3])\n",
            "tensor(232.5269, grad_fn=<NllLossBackward0>)\n",
            "tensor([5])\n",
            "tensor(0., grad_fn=<NllLossBackward0>)\n"
          ]
        }
      ]
    },
    {
      "cell_type": "markdown",
      "source": [
        "**2. White Box Evasion Attack - Task 3**\n",
        "\n"
      ],
      "metadata": {
        "id": "-rLnqtmhP9GN"
      }
    },
    {
      "cell_type": "code",
      "source": [
        "epsilon_values = [0.05, 0.15, 0.3]"
      ],
      "metadata": {
        "id": "jAUkDmVJSXmu"
      },
      "execution_count": null,
      "outputs": []
    },
    {
      "cell_type": "markdown",
      "source": [
        "\n",
        "**Fast Gradient Sign Method - Untargeted**"
      ],
      "metadata": {
        "id": "SS_0gKKtSZAh"
      }
    },
    {
      "cell_type": "code",
      "source": [
        "test_len = len(test_data)\n",
        "accuracies = []\n",
        "for eps in epsilon_values:\n",
        "  test_accuracy = 0\n",
        "  for idx in range(test_len):\n",
        "    img, original_label = test_data[idx]\n",
        "    img = img.unsqueeze(0)\n",
        "    adv_img = fgsm_attack(img.clone(), eps, original_label)\n",
        "    with torch.no_grad():\n",
        "        output = model(adv_img)\n",
        "        predicted_label = output.argmax(dim=1)\n",
        "    if predicted_label == original_label:\n",
        "        test_accuracy += 1\n",
        "\n",
        "  test_accuracy = test_accuracy / test_len * 100\n",
        "  print(f\"Epsilon: {eps}\")\n",
        "  print(\"Test accuracy on Fast Gradient Sign Method - Untargeted Adversarial images: {:.2f}%\".format(test_accuracy))\n",
        "  accuracies.append(test_accuracy)"
      ],
      "metadata": {
        "colab": {
          "base_uri": "https://localhost:8080/"
        },
        "id": "C8ialw3jPNdk",
        "outputId": "de1edbcd-ce6d-4e1c-a5e3-38fe3facac81"
      },
      "execution_count": null,
      "outputs": [
        {
          "output_type": "stream",
          "name": "stdout",
          "text": [
            "Epsilon: 0.05\n",
            "Test accuracy on Fast Gradient Sign Method - Untargeted Adversarial images: 26.17%\n",
            "Epsilon: 0.15\n",
            "Test accuracy on Fast Gradient Sign Method - Untargeted Adversarial images: 1.21%\n",
            "Epsilon: 0.3\n",
            "Test accuracy on Fast Gradient Sign Method - Untargeted Adversarial images: 0.14%\n"
          ]
        }
      ]
    },
    {
      "cell_type": "code",
      "source": [
        "fig, ax = plt.subplots()\n",
        "\n",
        "ax.plot(epsilon_values, accuracies)\n",
        "\n",
        "ax.set_xlabel('Epsilon Values')\n",
        "ax.set_ylabel('Accuracies')\n",
        "ax.set_title('FGSM - Untargeted')\n",
        "\n",
        "plt.show()"
      ],
      "metadata": {
        "colab": {
          "base_uri": "https://localhost:8080/",
          "height": 472
        },
        "id": "_4p230RWk8sC",
        "outputId": "cbd1b5a0-26ba-4fda-a9db-ba3edf05cbf9"
      },
      "execution_count": null,
      "outputs": [
        {
          "output_type": "display_data",
          "data": {
            "text/plain": [
              "<Figure size 640x480 with 1 Axes>"
            ],
            "image/png": "[encoded data removed]"
          },
          "metadata": {}
        }
      ]
    },
    {
      "cell_type": "markdown",
      "source": [
        "**Fast Gradient Sign Method - Targeted**"
      ],
      "metadata": {
        "id": "eFqrSOPxUXTH"
      }
    },
    {
      "cell_type": "code",
      "source": [
        "test_len = len(test_data)\n",
        "accuracies = []\n",
        "for eps in epsilon_values:\n",
        "  test_accuracy = 0\n",
        "  for idx in range(test_len):\n",
        "    img, original_label = test_data[idx]\n",
        "    img = img.unsqueeze(0)\n",
        "    target_label = (original_label + 1)%10\n",
        "    adv_img = fgsm_attack(img.clone(), eps, original_label, target_label)\n",
        "    with torch.no_grad():\n",
        "        output = model(adv_img)\n",
        "        predicted_label = output.argmax(dim=1)\n",
        "    if predicted_label == original_label:\n",
        "        test_accuracy += 1\n",
        "\n",
        "  test_accuracy = test_accuracy / test_len * 100\n",
        "  print(f\"Epsilon: {eps}\")\n",
        "  print(\"Test accuracy on Fast Gradient Sign Method - Targeted Adversarial images: {:.2f}%\".format(test_accuracy))\n",
        "  accuracies.append(test_accuracy)"
      ],
      "metadata": {
        "colab": {
          "base_uri": "https://localhost:8080/"
        },
        "id": "VCmB96o5Qksv",
        "outputId": "e12589fd-3e95-4a0d-ca61-896bc1293aa5"
      },
      "execution_count": null,
      "outputs": [
        {
          "output_type": "stream",
          "name": "stdout",
          "text": [
            "Epsilon: 0.05\n",
            "Test accuracy on Fast Gradient Sign Method - Targeted Adversarial images: 48.54%\n",
            "Epsilon: 0.15\n",
            "Test accuracy on Fast Gradient Sign Method - Targeted Adversarial images: 0.47%\n",
            "Epsilon: 0.3\n",
            "Test accuracy on Fast Gradient Sign Method - Targeted Adversarial images: 0.08%\n"
          ]
        }
      ]
    },
    {
      "cell_type": "code",
      "source": [
        "fig, ax = plt.subplots()\n",
        "\n",
        "ax.plot(epsilon_values, accuracies)\n",
        "\n",
        "ax.set_xlabel('Epsilon Values')\n",
        "ax.set_ylabel('Accuracies')\n",
        "ax.set_title('FGSM - Targeted')\n",
        "\n",
        "plt.show()"
      ],
      "metadata": {
        "colab": {
          "base_uri": "https://localhost:8080/",
          "height": 472
        },
        "id": "LSTna7caoaUI",
        "outputId": "f3c286dc-fb61-4a5a-abf9-eec25fcb5ff7"
      },
      "execution_count": null,
      "outputs": [
        {
          "output_type": "display_data",
          "data": {
            "text/plain": [
              "<Figure size 640x480 with 1 Axes>"
            ],
            "image/png": "[encoded data removed]"
          },
          "metadata": {}
        }
      ]
    },
    {
      "cell_type": "markdown",
      "source": [
        "**Policy Gradient Descent - Untargeted** - Assuming 5 iterations"
      ],
      "metadata": {
        "id": "CBgC49HbUjZ_"
      }
    },
    {
      "cell_type": "code",
      "source": [
        "test_len = len(test_data)\n",
        "accuracies = []\n",
        "for eps in epsilon_values:\n",
        "  test_accuracy = 0\n",
        "  for idx in range(test_len):\n",
        "    img, original_label = test_data[idx]\n",
        "    img = img.unsqueeze(0)\n",
        "    adv_img = pgd_attack(img.clone(), eps, 5, original_label)\n",
        "    with torch.no_grad():\n",
        "        output = model(adv_img)\n",
        "        predicted_label = output.argmax(dim=1)\n",
        "    if predicted_label == original_label:\n",
        "        test_accuracy += 1\n",
        "\n",
        "  test_accuracy = test_accuracy / test_len * 100\n",
        "  print(f\"Epsilon: {eps}\")\n",
        "  print(\"Test accuracy on Policy Gradient Descent - Untargeted Adversarial images: {:.2f}%\".format(test_accuracy))\n",
        "  accuracies.append(test_accuracy)"
      ],
      "metadata": {
        "colab": {
          "base_uri": "https://localhost:8080/"
        },
        "id": "EP0oOXY6TJIy",
        "outputId": "85219fda-4b01-49f2-f536-8975fb8c5ff4"
      },
      "execution_count": null,
      "outputs": [
        {
          "output_type": "stream",
          "name": "stdout",
          "text": [
            "Epsilon: 0.05\n",
            "Test accuracy on Policy Gradient Descent - Untargeted Adversarial images: 0.05%\n",
            "Epsilon: 0.15\n",
            "Test accuracy on Policy Gradient Descent - Untargeted Adversarial images: 0.00%\n",
            "Epsilon: 0.3\n",
            "Test accuracy on Policy Gradient Descent - Untargeted Adversarial images: 0.00%\n"
          ]
        }
      ]
    },
    {
      "cell_type": "code",
      "source": [
        "fig, ax = plt.subplots()\n",
        "\n",
        "ax.plot(epsilon_values, accuracies)\n",
        "\n",
        "ax.set_xlabel('Epsilon Values')\n",
        "ax.set_ylabel('Accuracies')\n",
        "ax.set_title('PDG - Untargeted')\n",
        "\n",
        "plt.show()"
      ],
      "metadata": {
        "colab": {
          "base_uri": "https://localhost:8080/",
          "height": 472
        },
        "id": "Uis2I-oxogl2",
        "outputId": "da8225ca-8cf3-4e0a-ed97-ea755c8db9f1"
      },
      "execution_count": null,
      "outputs": [
        {
          "output_type": "display_data",
          "data": {
            "text/plain": [
              "<Figure size 640x480 with 1 Axes>"
            ],
            "image/png": "[encoded data removed]"
          },
          "metadata": {}
        }
      ]
    },
    {
      "cell_type": "markdown",
      "source": [
        "**Policy Gradient Descent - Targeted**  - Assuming 5 iterations"
      ],
      "metadata": {
        "id": "Uo7q1cg_UpSz"
      }
    },
    {
      "cell_type": "code",
      "source": [
        "test_len = len(test_data)\n",
        "accuracies = []\n",
        "for eps in epsilon_values:\n",
        "  test_accuracy = 0\n",
        "  for idx in range(test_len):\n",
        "    img, original_label = test_data[idx]\n",
        "    img = img.unsqueeze(0)\n",
        "\n",
        "    target_label = (original_label + 1)%10\n",
        "    adv_img = pgd_attack(img.clone(), eps, 5, original_label, target_label)\n",
        "\n",
        "    with torch.no_grad():\n",
        "        output = model(adv_img)\n",
        "        predicted_label = output.argmax(dim=1)\n",
        "    if predicted_label == original_label:\n",
        "        test_accuracy += 1\n",
        "\n",
        "  test_accuracy = test_accuracy / test_len * 100\n",
        "  print(f\"Epsilon: {eps}\")\n",
        "  print(\"Test accuracy on Policy Gradient Descent - Targeted Adversarial images: {:.2f}%\".format(test_accuracy))\n",
        "  accuracies.append(test_accuracy)"
      ],
      "metadata": {
        "colab": {
          "base_uri": "https://localhost:8080/"
        },
        "id": "es9lZf5cUoto",
        "outputId": "5606ac9a-a50e-472a-802e-290fce57e147"
      },
      "execution_count": null,
      "outputs": [
        {
          "output_type": "stream",
          "name": "stdout",
          "text": [
            "Epsilon: 0.05\n",
            "Test accuracy on Policy Gradient Descent - Targeted Adversarial images: 0.45%\n",
            "Epsilon: 0.15\n",
            "Test accuracy on Policy Gradient Descent - Targeted Adversarial images: 0.01%\n",
            "Epsilon: 0.3\n",
            "Test accuracy on Policy Gradient Descent - Targeted Adversarial images: 0.20%\n"
          ]
        }
      ]
    },
    {
      "cell_type": "code",
      "source": [
        "fig, ax = plt.subplots()\n",
        "\n",
        "ax.plot(epsilon_values, accuracies)\n",
        "\n",
        "ax.set_xlabel('Epsilon Values')\n",
        "ax.set_ylabel('Accuracies')\n",
        "ax.set_title('PDG - Targeted')\n",
        "\n",
        "plt.show()"
      ],
      "metadata": {
        "colab": {
          "base_uri": "https://localhost:8080/",
          "height": 472
        },
        "id": "lP-VvUCkohkA",
        "outputId": "bdb35d41-7aba-4798-f380-973279c2ecb4"
      },
      "execution_count": null,
      "outputs": [
        {
          "output_type": "display_data",
          "data": {
            "text/plain": [
              "<Figure size 640x480 with 1 Axes>"
            ],
            "image/png": "[encoded data removed]"
          },
          "metadata": {}
        }
      ]
    },
    {
      "cell_type": "markdown",
      "source": [
        "**2. White Box Evasion Attack - Task 5 (Bonus)**"
      ],
      "metadata": {
        "id": "Ohx37s38dtZm"
      }
    },
    {
      "cell_type": "markdown",
      "source": [
        "**Fast Gradient Sign Method - Untargeted**"
      ],
      "metadata": {
        "id": "yXP2CxZVd4rZ"
      }
    },
    {
      "cell_type": "code",
      "source": [
        "def fgsm_attack_batch(imgs, eps, original_labels, target_labels=None):\n",
        "    imgs.requires_grad = True\n",
        "    output = model(imgs)\n",
        "    if target_labels is not None:\n",
        "      loss = -nn.CrossEntropyLoss()(output, target_labels)\n",
        "    else:\n",
        "      loss = nn.CrossEntropyLoss()(output, original_labels)\n",
        "    loss.backward()\n",
        "    adv_imgs = imgs + eps * imgs.grad.sign()\n",
        "    return adv_imgs"
      ],
      "metadata": {
        "id": "vlhfdc6vUqY2"
      },
      "execution_count": null,
      "outputs": []
    },
    {
      "cell_type": "code",
      "source": [
        "for eps in [0.05, 0.15, 0.3]:\n",
        "  model = MNISTModel()\n",
        "  optimizer = torch.optim.Adam(model.parameters(), lr=0.001)\n",
        "\n",
        "  model.train()\n",
        "\n",
        "  for epoch in range(5):\n",
        "      train_loader = torch.utils.data.DataLoader(train_data, batch_size=64, shuffle=True)\n",
        "      for images, labels in train_loader:\n",
        "          adv_images = fgsm_attack_batch(images.clone(), eps, labels)\n",
        "          optimizer.zero_grad()\n",
        "          output = model(adv_images)\n",
        "          loss = F.cross_entropy(output, labels)\n",
        "          loss.backward()\n",
        "          optimizer.step()\n",
        "\n",
        "  model.eval()\n",
        "\n",
        "  correct = 0\n",
        "  total = 0\n",
        "\n",
        "  with torch.no_grad():\n",
        "      test_loader = torch.utils.data.DataLoader(test_data, batch_size=64, shuffle=False)\n",
        "      for images, labels in test_loader:\n",
        "          outputs = model(images)\n",
        "          _, predicted = torch.max(outputs.data, 1)\n",
        "          total += labels.size(0)\n",
        "          correct += (predicted == labels).sum().item()\n",
        "\n",
        "  accuracy = 100 * correct / total\n",
        "  print(f\"Epsilon: {eps}\")\n",
        "  print('Accuracy on test set:  {} %'.format(accuracy))"
      ],
      "metadata": {
        "id": "zyl0vEkUecnG",
        "colab": {
          "base_uri": "https://localhost:8080/"
        },
        "outputId": "5b5ccf32-8f39-4bc7-f30a-3da8e0d38edf"
      },
      "execution_count": null,
      "outputs": [
        {
          "output_type": "stream",
          "name": "stdout",
          "text": [
            "Epsilon: 0.05\n",
            "Accuracy on test set:  98.34 %\n",
            "Epsilon: 0.15\n",
            "Accuracy on test set:  94.66 %\n",
            "Epsilon: 0.3\n",
            "Accuracy on test set:  50.96 %\n"
          ]
        }
      ]
    },
    {
      "cell_type": "markdown",
      "source": [
        "**Fast Gradient Sign Method - Targeted**"
      ],
      "metadata": {
        "id": "UiNwkZbV1VOl"
      }
    },
    {
      "cell_type": "code",
      "source": [
        "for eps in [0.05, 0.15, 0.3]:\n",
        "  model = MNISTModel()\n",
        "  optimizer = torch.optim.Adam(model.parameters(), lr=0.001)\n",
        "\n",
        "  model.train()\n",
        "\n",
        "  for epoch in range(5):\n",
        "      train_loader = torch.utils.data.DataLoader(train_data, batch_size=64, shuffle=True)\n",
        "      for images, labels in train_loader:\n",
        "          target_labels = (labels+1)%10\n",
        "          adv_images = fgsm_attack_batch(images.clone(), eps, labels, target_labels)\n",
        "          optimizer.zero_grad()\n",
        "          output = model(adv_images)\n",
        "          loss = F.cross_entropy(output, labels)\n",
        "          loss.backward()\n",
        "          optimizer.step()\n",
        "\n",
        "  model.eval()\n",
        "\n",
        "  correct = 0\n",
        "  total = 0\n",
        "\n",
        "  with torch.no_grad():\n",
        "      test_loader = torch.utils.data.DataLoader(test_data, batch_size=64, shuffle=False)\n",
        "      for images, labels in test_loader:\n",
        "          outputs = model(images)\n",
        "          _, predicted = torch.max(outputs.data, 1)\n",
        "          total += labels.size(0)\n",
        "          correct += (predicted == labels).sum().item()\n",
        "\n",
        "  accuracy = 100 * correct / total\n",
        "  print(f\"Epsilon: {eps}\")\n",
        "  print('Accuracy on test set:  {} %'.format(accuracy))"
      ],
      "metadata": {
        "id": "UI8ZGLx0e4wm",
        "colab": {
          "base_uri": "https://localhost:8080/"
        },
        "outputId": "1ab375de-cd1c-4b95-ab18-2c248e7c814b"
      },
      "execution_count": null,
      "outputs": [
        {
          "output_type": "stream",
          "name": "stdout",
          "text": [
            "Epsilon: 0.05\n",
            "Accuracy on test set:  97.37 %\n",
            "Epsilon: 0.15\n",
            "Accuracy on test set:  92.26 %\n",
            "Epsilon: 0.3\n",
            "Accuracy on test set:  39.51 %\n"
          ]
        }
      ]
    },
    {
      "cell_type": "markdown",
      "source": [
        "**Policy Gradient Descent - Untargeted** - Assuming 3 iterations"
      ],
      "metadata": {
        "id": "iVViTCK_1bqR"
      }
    },
    {
      "cell_type": "code",
      "source": [
        "def pgd_attack_batch(imgs, eps, num_steps, original_labels, target_labels=None):\n",
        "\n",
        "    adv_imgs = imgs.clone().detach().requires_grad_(True)\n",
        "\n",
        "    for _ in range(num_steps):\n",
        "        output = model(adv_imgs)\n",
        "        if target_labels is not None:\n",
        "          loss = -nn.CrossEntropyLoss()(output, target_labels)\n",
        "        else:\n",
        "          loss = nn.CrossEntropyLoss()(output, original_labels)\n",
        "        loss.backward()\n",
        "\n",
        "        adv_imgs = adv_imgs.detach() + eps * adv_imgs.grad.sign()\n",
        "        adv_imgs = torch.clamp(adv_imgs, 0, 1)  # Projection step\n",
        "        adv_imgs.requires_grad = True\n",
        "    return adv_imgs"
      ],
      "metadata": {
        "id": "aJjXNNpo3LeM"
      },
      "execution_count": null,
      "outputs": []
    },
    {
      "cell_type": "code",
      "source": [
        "for eps in [0.05, 0.15, 0.3]:\n",
        "  model = MNISTModel()\n",
        "  optimizer = torch.optim.Adam(model.parameters(), lr=0.001)\n",
        "\n",
        "  model.train()\n",
        "\n",
        "  for epoch in range(5):\n",
        "      train_loader = torch.utils.data.DataLoader(train_data, batch_size=64, shuffle=True)\n",
        "      for images, labels in train_loader:\n",
        "          adv_images = pgd_attack_batch(images.clone(), eps, 3, labels)\n",
        "          optimizer.zero_grad()\n",
        "          output = model(adv_images)\n",
        "          loss = F.cross_entropy(output, labels)\n",
        "          loss.backward()\n",
        "          optimizer.step()\n",
        "\n",
        "  model.eval()\n",
        "\n",
        "  correct = 0\n",
        "  total = 0\n",
        "\n",
        "  with torch.no_grad():\n",
        "      test_loader = torch.utils.data.DataLoader(test_data, batch_size=64, shuffle=False)\n",
        "      for images, labels in test_loader:\n",
        "          outputs = model(images)\n",
        "          _, predicted = torch.max(outputs.data, 1)\n",
        "          total += labels.size(0)\n",
        "          correct += (predicted == labels).sum().item()\n",
        "\n",
        "  accuracy = 100 * correct / total\n",
        "  print(f\"Epsilon: {eps}\")\n",
        "  print('Accuracy on test set:  {} %'.format(accuracy))"
      ],
      "metadata": {
        "colab": {
          "base_uri": "https://localhost:8080/"
        },
        "id": "rnUxNNBI3PcB",
        "outputId": "0070be18-5e54-423e-f27c-a033e7160489"
      },
      "execution_count": null,
      "outputs": [
        {
          "output_type": "stream",
          "name": "stdout",
          "text": [
            "Epsilon: 0.05\n",
            "Accuracy on test set:  94.41 %\n",
            "Epsilon: 0.15\n",
            "Accuracy on test set:  11.35 %\n",
            "Epsilon: 0.3\n",
            "Accuracy on test set:  11.35 %\n"
          ]
        }
      ]
    },
    {
      "cell_type": "markdown",
      "source": [
        "**Policy Gradient Descent - Targeted** - Assuming 3 iterations"
      ],
      "metadata": {
        "id": "aOit6oWJ1h5K"
      }
    },
    {
      "cell_type": "code",
      "source": [
        "for eps in [0.05, 0.15, 0.3]:\n",
        "  model = MNISTModel()\n",
        "  optimizer = torch.optim.Adam(model.parameters(), lr=0.001)\n",
        "\n",
        "  model.train()\n",
        "\n",
        "  for epoch in range(5):\n",
        "      train_loader = torch.utils.data.DataLoader(train_data, batch_size=64, shuffle=True)\n",
        "      for images, labels in train_loader:\n",
        "          target_labels = (labels+1)%10\n",
        "          adv_images = pgd_attack_batch(images.clone(), eps, 3, labels, target_labels)\n",
        "          optimizer.zero_grad()\n",
        "          output = model(adv_images)\n",
        "          loss = F.cross_entropy(output, labels)\n",
        "          loss.backward()\n",
        "          optimizer.step()\n",
        "\n",
        "  model.eval()\n",
        "\n",
        "  correct = 0\n",
        "  total = 0\n",
        "\n",
        "  with torch.no_grad():\n",
        "      test_loader = torch.utils.data.DataLoader(test_data, batch_size=64, shuffle=False)\n",
        "      for images, labels in test_loader:\n",
        "          outputs = model(images)\n",
        "          _, predicted = torch.max(outputs.data, 1)\n",
        "          total += labels.size(0)\n",
        "          correct += (predicted == labels).sum().item()\n",
        "\n",
        "  accuracy = 100 * correct / total\n",
        "  print(f\"Epsilon: {eps}\")\n",
        "  print('Accuracy on test set:  {} %'.format(accuracy))"
      ],
      "metadata": {
        "colab": {
          "base_uri": "https://localhost:8080/"
        },
        "id": "GgmjlJUW1lv-",
        "outputId": "fc4a01b3-6cbd-43dc-8eb8-0821d8f66d1b"
      },
      "execution_count": null,
      "outputs": [
        {
          "output_type": "stream",
          "name": "stdout",
          "text": [
            "Epsilon: 0.05\n",
            "Accuracy on test set:  92.85 %\n",
            "Epsilon: 0.15\n",
            "Accuracy on test set:  13.22 %\n",
            "Epsilon: 0.3\n",
            "Accuracy on test set:  11.35 %\n"
          ]
        }
      ]
    },
    {
      "cell_type": "code",
      "source": [],
      "metadata": {
        "id": "TrBflX7a5QvV"
      },
      "execution_count": null,
      "outputs": []
    }
  ]
}